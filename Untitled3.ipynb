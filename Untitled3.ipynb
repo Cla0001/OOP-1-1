{
  "nbformat": 4,
  "nbformat_minor": 0,
  "metadata": {
    "colab": {
      "name": "Untitled3.ipynb",
      "provenance": [],
      "authorship_tag": "ABX9TyOiL4JN2hN9IRWe2mfEsyY+",
      "include_colab_link": true
    },
    "kernelspec": {
      "name": "python3",
      "display_name": "Python 3"
    },
    "language_info": {
      "name": "python"
    }
  },
  "cells": [
    {
      "cell_type": "markdown",
      "metadata": {
        "id": "view-in-github",
        "colab_type": "text"
      },
      "source": [
        "<a href=\"https://colab.research.google.com/github/Cla0001/OOP-1-1/blob/main/Untitled3.ipynb\" target=\"_parent\"><img src=\"https://colab.research.google.com/assets/colab-badge.svg\" alt=\"Open In Colab\"/></a>"
      ]
    },
    {
      "cell_type": "markdown",
      "source": [
        "App;ication 2 - Write a python program that displays the fullname of a student, student number, age, course, and school. Create a class name OOP_1_1 and create info() method to display the information of a student with fullname, student_no,age,course,school as attributes "
      ],
      "metadata": {
        "id": "UDAOJX3injKo"
      }
    },
    {
      "cell_type": "code",
      "source": [
        "class OOP_1_1:\n",
        "  def __init__(self,fullname,student_no,age,course,school):\n",
        "    self.fullname = fullname\n",
        "    self.student_no = student_no\n",
        "    self.age = age\n",
        "    self.course = course\n",
        "    self.school = school\n",
        "\n",
        "  def Info(self):\n",
        "    print(self.fullname,self.student_no,self.age,self.course,self.school)\n",
        "\n",
        "student = OOP_1_1(\"Clarence Deniel Navarrete\",202101695,20,\"BSCpE\",\"CVSU Main Campus\")\n",
        "student.Info()"
      ],
      "metadata": {
        "colab": {
          "base_uri": "https://localhost:8080/"
        },
        "id": "oPgFuCw9oUCQ",
        "outputId": "0aa7d9d8-164c-4dfa-f671-2c93a50ae6f3"
      },
      "execution_count": 5,
      "outputs": [
        {
          "output_type": "stream",
          "name": "stdout",
          "text": [
            "Clarence Deniel Navarrete 202101695 20 BSCpE CVSU Main Campus\n"
          ]
        }
      ]
    },
    {
      "cell_type": "markdown",
      "source": [
        "Application 3-Define an Area() method of the class Circle that calculates the circle's area.Define a Perimeter() method of the class which allows you to calculate the perimeter of the circle. "
      ],
      "metadata": {
        "id": "04vx5F3Cr4Mh"
      }
    },
    {
      "cell_type": "code",
      "source": [
        "class Circle:\n",
        "  def __init__(self,r):\n",
        "    self.radius = r\n",
        "  \n",
        "  def area(self):\n",
        "    return self.radius**2*3.14\n",
        "\n",
        "  def perimeter(self):\n",
        "    return 2*self.radius*3.14\n",
        "\n",
        "NewCircle = Circle(5)\n",
        "print(NewCircle.area())\n",
        "print(NewCircle.perimeter())"
      ],
      "metadata": {
        "colab": {
          "base_uri": "https://localhost:8080/"
        },
        "id": "1yUaGFwApT8B",
        "outputId": "c0e2476a-793f-41fa-e9eb-99f80383734a"
      },
      "execution_count": 10,
      "outputs": [
        {
          "output_type": "stream",
          "name": "stdout",
          "text": [
            "78.5\n",
            "31.400000000000002\n"
          ]
        }
      ]
    }
  ]
}