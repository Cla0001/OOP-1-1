{
  "nbformat": 4,
  "nbformat_minor": 0,
  "metadata": {
    "colab": {
      "name": "Untitled4.ipynb",
      "provenance": [],
      "authorship_tag": "ABX9TyPU+5pZBn2LG0wPF80derfT",
      "include_colab_link": true
    },
    "kernelspec": {
      "name": "python3",
      "display_name": "Python 3"
    },
    "language_info": {
      "name": "python"
    }
  },
  "cells": [
    {
      "cell_type": "markdown",
      "metadata": {
        "id": "view-in-github",
        "colab_type": "text"
      },
      "source": [
        "<a href=\"https://colab.research.google.com/github/Cla0001/OOP-1-1/blob/main/Untitled4.ipynb\" target=\"_parent\"><img src=\"https://colab.research.google.com/assets/colab-badge.svg\" alt=\"Open In Colab\"/></a>"
      ]
    },
    {
      "cell_type": "markdown",
      "source": [
        "Polymorphism"
      ],
      "metadata": {
        "id": "xLna_wbF_m9Y"
      }
    },
    {
      "cell_type": "code",
      "source": [
        "class RegularPolygon:\n",
        "  def __init__(self,side):\n",
        "    self.side = side\n",
        "class Square(RegularPolygon):\n",
        "  def area(self):\n",
        "    return self.side * self.side\n",
        "class EquilateralTriangle(RegularPolygon):\n",
        "  def area(self):\n",
        "    return self.side * self.side * 0.433\n",
        "\n",
        "obj1 = Square(4)\n",
        "print(obj1.area())\n",
        "\n",
        "obj2 = EquilateralTriangle(3)\n",
        "print(obj2.area())"
      ],
      "metadata": {
        "colab": {
          "base_uri": "https://localhost:8080/"
        },
        "id": "7BNSOqDD_pyN",
        "outputId": "03f75ddb-0fd4-4f87-9a72-65df5582fe2f"
      },
      "execution_count": 1,
      "outputs": [
        {
          "output_type": "stream",
          "name": "stdout",
          "text": [
            "16\n",
            "3.897\n"
          ]
        }
      ]
    },
    {
      "cell_type": "markdown",
      "source": [
        "Application 1"
      ],
      "metadata": {
        "id": "1U6pRquBBYug"
      }
    },
    {
      "cell_type": "code",
      "source": [
        "class Person:\n",
        "  def __init__(self,pre,mid,fin):\n",
        "    self.pre=pre\n",
        "    self.mid=mid\n",
        "    self.fin=fin\n",
        "  def grades(self):\n",
        "    print(self.pre,self.mid,self.fin)\n",
        "\n",
        "person = Person(\"pre grade\",\"mid grade\",\"fin grade\")\n",
        "person.grades()\n",
        "\n",
        "class Student1(Person):\n",
        "  pass\n",
        "person = Student1 (99,98,97)\n",
        "person.grades()\n",
        "person = Student1((99+98+97)/3,\"terms\",\"average\")\n",
        "person.grades()\n",
        "\n",
        "class Student2(Student1):\n",
        "  pass\n",
        "person = Student2 (90,90,90)\n",
        "person.grades() \n",
        "person = Student2((90+90+90)/3,\"terms\",\"average\")\n",
        "person.grades()\n",
        "\n",
        "class Student2(Student1):\n",
        "  pass\n",
        "person = Student2(85,90,95)\n",
        "person.grades()\n",
        "person = Student2((85+90+95)/3,\"terms\",\"average\")\n",
        "person.grades()\n",
        "\n",
        "\n",
        "\n",
        "        "
      ],
      "metadata": {
        "colab": {
          "base_uri": "https://localhost:8080/"
        },
        "id": "524-nvnaBd8E",
        "outputId": "7e7663e4-a4d3-4b2c-8a1a-9d7ed7e3876a"
      },
      "execution_count": 32,
      "outputs": [
        {
          "output_type": "stream",
          "name": "stdout",
          "text": [
            "pre grade mid grade fin grade\n",
            "99 98 97\n",
            "98.0 terms average\n",
            "90 90 90\n",
            "90.0 terms average\n",
            "85 90 95\n",
            "90.0 terms average\n"
          ]
        }
      ]
    }
  ]
}