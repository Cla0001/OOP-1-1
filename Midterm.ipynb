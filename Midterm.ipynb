{
  "nbformat": 4,
  "nbformat_minor": 0,
  "metadata": {
    "colab": {
      "name": "Midterm.ipynb",
      "provenance": [],
      "authorship_tag": "ABX9TyN0a9vARwC9mVr2aga36bc2",
      "include_colab_link": true
    },
    "kernelspec": {
      "name": "python3",
      "display_name": "Python 3"
    },
    "language_info": {
      "name": "python"
    }
  },
  "cells": [
    {
      "cell_type": "markdown",
      "metadata": {
        "id": "view-in-github",
        "colab_type": "text"
      },
      "source": [
        "<a href=\"https://colab.research.google.com/github/Cla0001/OOP-1-1/blob/main/Midterm.ipynb\" target=\"_parent\"><img src=\"https://colab.research.google.com/assets/colab-badge.svg\" alt=\"Open In Colab\"/></a>"
      ]
    },
    {
      "cell_type": "code",
      "source": [
        "def main():\n",
        "  class TemperatureConversion:\n",
        "    def __init__(self, temp=1):\n",
        "     self.temp = temp\n",
        "  class CelsiusToFahrenheit(TemperatureConversion):\n",
        "    def conversion(self):\n",
        "      return (self. temp * 9)/5 + 32\n",
        "  class CelsiusToKelvin(TemperatureConversion):\n",
        "    def conversion(self):\n",
        "      return self. temp + 273.15\n",
        "  class FahrenheitTocelsius(TemperatureConversion):\n",
        "    def conversion(self):\n",
        "      return(self. temp * 9/5) + 23\n",
        "  class kelvinToCelsius(TemperatureConversion):\n",
        "    def conversion(self):\n",
        "      return(self. temp - 273.15)\n",
        "\n",
        "tempInCelsius = float(input(\"Enter the temperature in Celsius:\"))\n",
        "convert = CelsiusToKelvin(tempInCelsius)\n",
        "print(str(convert.conversion())+\"Fahrenheit\")\n",
        "fahrenheit = float(input(\"Enter temperature in fahrenheit:\"))\n",
        "celsius = (fahrenheit - 32)* 5/9\n",
        "print('%.2f Farenheit is:%0.2f Celsius'%(fahrenheit, celsius))\n",
        "kelvin = float(input(\"Enter temperature in kelvin:\"))\n",
        "kelvin = (kelvin - 273.15)\n",
        "print(\"The temperature in Celsius:\",round(kelvin,2))\n",
        "\n",
        "main()"
      ],
      "metadata": {
        "id": "akboQg6dqr-J"
      },
      "execution_count": null,
      "outputs": []
    },
    {
      "cell_type": "code",
      "source": [
        "from tkinter import*\n",
        "window = Tk()\n",
        "\n",
        "window.geometry(\"550x280+30+20\")\n",
        "window.title(\"Midterm in OOP\")\n",
        "\n",
        "fn = Label(window,text=\"Enter your Fullname\",fg = \"Red\")\n",
        "fn.place(x=50,y=100)\n",
        "fnbox = Entry(window,bd = 4,font = (\"verdana\",20))\n",
        "fnbox.place(x=250,y=100)\n",
        "txtfld = Entry(window, bd = 4,font = (\"verdana\",20))\n",
        "txtfld.place(x=250,y=200)\n",
        "\n",
        "def Display():\n",
        "  dfn = Label(window,text=fnbox.get(),bd=4, font = (\"verdana\",13))\n",
        "  dfn.place(x=260,y=205)\n",
        "\n",
        "displayButton = Button(window,text=\"Click to display your fullname\",padx=4,pady=3,command=Display,fg=\"red\")\n",
        "displayButton.place(x=50,y=210)\n",
        "\n",
        "window.mainloop()"
      ],
      "metadata": {
        "id": "FwpLOU7F_Biu"
      },
      "execution_count": null,
      "outputs": []
    }
  ]
}